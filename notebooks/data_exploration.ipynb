{
 "cells": [
  {
   "cell_type": "code",
   "execution_count": 1,
   "id": "afd27729",
   "metadata": {},
   "outputs": [],
   "source": [
    "import dvc.api"
   ]
  },
  {
   "cell_type": "code",
   "execution_count": 35,
   "id": "c810cf00",
   "metadata": {},
   "outputs": [],
   "source": [
    "import pandas as pd\n",
    "import numpy as np\n",
    "import matplotlib.pyplot as plt\n",
    "import seaborn as sns\n",
    "import os\n",
    "import sys\n",
    "from IPython.display import Image "
   ]
  },
  {
   "cell_type": "code",
   "execution_count": 11,
   "id": "e1063fa5",
   "metadata": {},
   "outputs": [],
   "source": [
    "import warnings\n",
    "warnings.filterwarnings('ignore')\n"
   ]
  },
  {
   "cell_type": "code",
   "execution_count": 3,
   "id": "a377cb6e",
   "metadata": {},
   "outputs": [],
   "source": [
    "path = '../data/nb.csv'\n",
    "repo = 'https://github.com/tibarekb/causal-inference'\n",
    "version = '9672c124c252d766528799a2a40ddc2cf3e8284b'\n",
    "data = dvc.api.read(path = path,\n",
    "                   repo = repo,\n",
    "                   rev = version)\n",
    "\n"
   ]
  },
  {
   "cell_type": "code",
   "execution_count": 61,
   "id": "80bd68b9",
   "metadata": {},
   "outputs": [],
   "source": [
    "from io import StringIO\n",
    "df = pd.read_csv(StringIO(data))\n"
   ]
  },
  {
   "cell_type": "code",
   "execution_count": 5,
   "id": "3b57eb5c",
   "metadata": {},
   "outputs": [],
   "source": [
    "path = '../data/driver.csv'\n",
    "repo = 'https://github.com/tibarekb/causal-inference'\n",
    "version = '9672c124c252d766528799a2a40ddc2cf3e8284b'\n",
    "data = dvc.api.read(path = path,\n",
    "                   repo = repo,\n",
    "                   rev = version)"
   ]
  },
  {
   "cell_type": "code",
   "execution_count": 62,
   "id": "64cd9750",
   "metadata": {},
   "outputs": [],
   "source": [
    "from io import StringIO\n",
    "driver = pd.read_csv(StringIO(data))\n"
   ]
  },
  {
   "cell_type": "code",
   "execution_count": 12,
   "id": "f9731c5f",
   "metadata": {},
   "outputs": [
    {
     "data": {
      "text/plain": [
       "['Trip ID',\n",
       " 'Trip Origin',\n",
       " 'Trip Destination',\n",
       " 'Trip Start Time',\n",
       " 'Trip End Time']"
      ]
     },
     "execution_count": 12,
     "metadata": {},
     "output_type": "execute_result"
    }
   ],
   "source": [
    "df.columns.tolist()"
   ]
  },
  {
   "cell_type": "code",
   "execution_count": 13,
   "id": "87f3a735",
   "metadata": {},
   "outputs": [
    {
     "data": {
      "text/plain": [
       "Trip ID              int64\n",
       "Trip Origin         object\n",
       "Trip Destination    object\n",
       "Trip Start Time     object\n",
       "Trip End Time       object\n",
       "dtype: object"
      ]
     },
     "execution_count": 13,
     "metadata": {},
     "output_type": "execute_result"
    }
   ],
   "source": [
    "df.dtypes"
   ]
  },
  {
   "cell_type": "code",
   "execution_count": 14,
   "id": "3dfca7fc",
   "metadata": {},
   "outputs": [
    {
     "name": "stdout",
     "output_type": "stream",
     "text": [
      "The Telecommunication dataset contains 0.06 % missing values.\n"
     ]
    }
   ],
   "source": [
    "def percent_missing(df):\n",
    "\n",
    "    # Calculate total number of cells in dataframe\n",
    "    totalCells = np.product(df.shape)\n",
    "\n",
    "    # Count number of missing values per column\n",
    "    missingCount = df.isnull().sum()\n",
    "\n",
    "    # Calculate total number of missing values\n",
    "    totalMissing = missingCount.sum()\n",
    "\n",
    "    # Calculate percentage of missing values\n",
    "    print(\"The Telecommunication dataset contains\", round(((totalMissing/totalCells) * 100), 2), \"%\", \"missing values.\")\n",
    "\n",
    "percent_missing(df)"
   ]
  },
  {
   "cell_type": "code",
   "execution_count": 15,
   "id": "ebc50d52",
   "metadata": {},
   "outputs": [
    {
     "data": {
      "text/plain": [
       "Trip ID                0\n",
       "Trip Origin            0\n",
       "Trip Destination       0\n",
       "Trip Start Time     1651\n",
       "Trip End Time          1\n",
       "dtype: int64"
      ]
     },
     "execution_count": 15,
     "metadata": {},
     "output_type": "execute_result"
    }
   ],
   "source": [
    "df.isna().sum()"
   ]
  },
  {
   "cell_type": "code",
   "execution_count": 17,
   "id": "9dd7391c",
   "metadata": {},
   "outputs": [
    {
     "data": {
      "text/plain": [
       "Trip ID    0.034186\n",
       "dtype: float64"
      ]
     },
     "execution_count": 17,
     "metadata": {},
     "output_type": "execute_result"
    }
   ],
   "source": [
    "df.skew(axis=0)\n",
    "# to check the distribution of the data of the whole columns"
   ]
  },
  {
   "cell_type": "code",
   "execution_count": 18,
   "id": "c2c29481",
   "metadata": {},
   "outputs": [
    {
     "data": {
      "text/plain": [
       "(0, 5)"
      ]
     },
     "execution_count": 18,
     "metadata": {},
     "output_type": "execute_result"
    }
   ],
   "source": [
    "duplicated_entries = df[df.duplicated()]\n",
    "duplicated_entries.shape"
   ]
  },
  {
   "cell_type": "code",
   "execution_count": 22,
   "id": "c675e820",
   "metadata": {},
   "outputs": [],
   "source": [
    "df['Trip Start Time'] = df['Trip Start Time'].fillna(df['Trip Start Time'].mode()[0])\n",
    "df['Trip End Time'] = df['Trip End Time'].fillna(df['Trip End Time'].mode()[0])"
   ]
  },
  {
   "cell_type": "code",
   "execution_count": 23,
   "id": "ce504ac4",
   "metadata": {},
   "outputs": [
    {
     "data": {
      "text/plain": [
       "Trip ID             0\n",
       "Trip Origin         0\n",
       "Trip Destination    0\n",
       "Trip Start Time     0\n",
       "Trip End Time       0\n",
       "dtype: int64"
      ]
     },
     "execution_count": 23,
     "metadata": {},
     "output_type": "execute_result"
    }
   ],
   "source": [
    "df.isna().sum()"
   ]
  },
  {
   "cell_type": "code",
   "execution_count": 25,
   "id": "ab9d0af8",
   "metadata": {},
   "outputs": [
    {
     "data": {
      "text/plain": [
       "['id',\n",
       " 'order_id',\n",
       " 'driver_id',\n",
       " 'driver_action',\n",
       " 'lat',\n",
       " 'lng',\n",
       " 'created_at',\n",
       " 'updated_at']"
      ]
     },
     "execution_count": 25,
     "metadata": {},
     "output_type": "execute_result"
    }
   ],
   "source": [
    "driver.columns.tolist()"
   ]
  },
  {
   "cell_type": "code",
   "execution_count": 26,
   "id": "609a39a1",
   "metadata": {},
   "outputs": [
    {
     "data": {
      "text/plain": [
       "id                 int64\n",
       "order_id           int64\n",
       "driver_id          int64\n",
       "driver_action     object\n",
       "lat              float64\n",
       "lng              float64\n",
       "created_at       float64\n",
       "updated_at       float64\n",
       "dtype: object"
      ]
     },
     "execution_count": 26,
     "metadata": {},
     "output_type": "execute_result"
    }
   ],
   "source": [
    "driver.dtypes"
   ]
  },
  {
   "cell_type": "code",
   "execution_count": 30,
   "id": "9be7741d",
   "metadata": {},
   "outputs": [
    {
     "name": "stdout",
     "output_type": "stream",
     "text": [
      "The Telecommunication dataset contains 25.0 % missing values.\n"
     ]
    }
   ],
   "source": [
    "percent_missing(driver)"
   ]
  },
  {
   "cell_type": "code",
   "execution_count": 28,
   "id": "3afec16e",
   "metadata": {},
   "outputs": [
    {
     "data": {
      "text/plain": [
       "id                     0\n",
       "order_id               0\n",
       "driver_id              0\n",
       "driver_action          0\n",
       "lat                    0\n",
       "lng                    0\n",
       "created_at       1557740\n",
       "updated_at       1557740\n",
       "dtype: int64"
      ]
     },
     "execution_count": 28,
     "metadata": {},
     "output_type": "execute_result"
    }
   ],
   "source": [
    "driver.isna().sum()"
   ]
  },
  {
   "cell_type": "code",
   "execution_count": 51,
   "id": "47c39f9b",
   "metadata": {},
   "outputs": [
    {
     "data": {
      "text/plain": [
       "id           -3.755038e-15\n",
       "order_id     -5.376272e-02\n",
       "driver_id    -2.194723e+00\n",
       "lat          -2.476377e-01\n",
       "lng           2.026092e+00\n",
       "created_at             NaN\n",
       "updated_at             NaN\n",
       "dtype: float64"
      ]
     },
     "execution_count": 51,
     "metadata": {},
     "output_type": "execute_result"
    }
   ],
   "source": [
    "driver.skew(axis=0)"
   ]
  },
  {
   "cell_type": "code",
   "execution_count": 49,
   "id": "1d836a03",
   "metadata": {},
   "outputs": [
    {
     "data": {
      "text/plain": [
       "id                     0\n",
       "order_id               0\n",
       "driver_id              0\n",
       "driver_action          0\n",
       "lat                    0\n",
       "lng                    0\n",
       "created_at       1557740\n",
       "updated_at       1557740\n",
       "dtype: int64"
      ]
     },
     "execution_count": 49,
     "metadata": {},
     "output_type": "execute_result"
    }
   ],
   "source": [
    "driver.isna().sum()"
   ]
  },
  {
   "cell_type": "code",
   "execution_count": 55,
   "id": "bc0c11ca",
   "metadata": {},
   "outputs": [],
   "source": [
    "driver= driver.drop(\n",
    "    ['created_at' ,             \n",
    "     'updated_at' ,         \n",
    "    ], axis=1)"
   ]
  },
  {
   "cell_type": "code",
   "execution_count": 56,
   "id": "2c3e7500",
   "metadata": {},
   "outputs": [
    {
     "data": {
      "text/html": [
       "<div>\n",
       "<style scoped>\n",
       "    .dataframe tbody tr th:only-of-type {\n",
       "        vertical-align: middle;\n",
       "    }\n",
       "\n",
       "    .dataframe tbody tr th {\n",
       "        vertical-align: top;\n",
       "    }\n",
       "\n",
       "    .dataframe thead th {\n",
       "        text-align: right;\n",
       "    }\n",
       "</style>\n",
       "<table border=\"1\" class=\"dataframe\">\n",
       "  <thead>\n",
       "    <tr style=\"text-align: right;\">\n",
       "      <th></th>\n",
       "      <th>id</th>\n",
       "      <th>order_id</th>\n",
       "      <th>driver_id</th>\n",
       "      <th>driver_action</th>\n",
       "      <th>lat</th>\n",
       "      <th>lng</th>\n",
       "    </tr>\n",
       "  </thead>\n",
       "  <tbody>\n",
       "    <tr>\n",
       "      <th>0</th>\n",
       "      <td>1</td>\n",
       "      <td>392001</td>\n",
       "      <td>243828</td>\n",
       "      <td>accepted</td>\n",
       "      <td>6.602207</td>\n",
       "      <td>3.270465</td>\n",
       "    </tr>\n",
       "    <tr>\n",
       "      <th>1</th>\n",
       "      <td>2</td>\n",
       "      <td>392001</td>\n",
       "      <td>243588</td>\n",
       "      <td>rejected</td>\n",
       "      <td>6.592097</td>\n",
       "      <td>3.287445</td>\n",
       "    </tr>\n",
       "    <tr>\n",
       "      <th>2</th>\n",
       "      <td>3</td>\n",
       "      <td>392001</td>\n",
       "      <td>243830</td>\n",
       "      <td>rejected</td>\n",
       "      <td>6.596133</td>\n",
       "      <td>3.281784</td>\n",
       "    </tr>\n",
       "    <tr>\n",
       "      <th>3</th>\n",
       "      <td>4</td>\n",
       "      <td>392001</td>\n",
       "      <td>243539</td>\n",
       "      <td>rejected</td>\n",
       "      <td>6.596142</td>\n",
       "      <td>3.280526</td>\n",
       "    </tr>\n",
       "    <tr>\n",
       "      <th>4</th>\n",
       "      <td>5</td>\n",
       "      <td>392001</td>\n",
       "      <td>171653</td>\n",
       "      <td>rejected</td>\n",
       "      <td>6.609232</td>\n",
       "      <td>3.288800</td>\n",
       "    </tr>\n",
       "  </tbody>\n",
       "</table>\n",
       "</div>"
      ],
      "text/plain": [
       "   id  order_id  driver_id driver_action       lat       lng\n",
       "0   1    392001     243828      accepted  6.602207  3.270465\n",
       "1   2    392001     243588      rejected  6.592097  3.287445\n",
       "2   3    392001     243830      rejected  6.596133  3.281784\n",
       "3   4    392001     243539      rejected  6.596142  3.280526\n",
       "4   5    392001     171653      rejected  6.609232  3.288800"
      ]
     },
     "execution_count": 56,
     "metadata": {},
     "output_type": "execute_result"
    }
   ],
   "source": [
    "driver.head()"
   ]
  },
  {
   "cell_type": "code",
   "execution_count": 57,
   "id": "c359a596",
   "metadata": {},
   "outputs": [],
   "source": [
    "df1 = driver.merge(df,how = 'inner', left_on = 'order_id', right_on = 'Trip ID')"
   ]
  },
  {
   "cell_type": "code",
   "execution_count": 58,
   "id": "03271b38",
   "metadata": {},
   "outputs": [
    {
     "data": {
      "text/html": [
       "<div>\n",
       "<style scoped>\n",
       "    .dataframe tbody tr th:only-of-type {\n",
       "        vertical-align: middle;\n",
       "    }\n",
       "\n",
       "    .dataframe tbody tr th {\n",
       "        vertical-align: top;\n",
       "    }\n",
       "\n",
       "    .dataframe thead th {\n",
       "        text-align: right;\n",
       "    }\n",
       "</style>\n",
       "<table border=\"1\" class=\"dataframe\">\n",
       "  <thead>\n",
       "    <tr style=\"text-align: right;\">\n",
       "      <th></th>\n",
       "      <th>id</th>\n",
       "      <th>order_id</th>\n",
       "      <th>driver_id</th>\n",
       "      <th>driver_action</th>\n",
       "      <th>lat</th>\n",
       "      <th>lng</th>\n",
       "      <th>Trip ID</th>\n",
       "      <th>Trip Origin</th>\n",
       "      <th>Trip Destination</th>\n",
       "      <th>Trip Start Time</th>\n",
       "      <th>Trip End Time</th>\n",
       "    </tr>\n",
       "  </thead>\n",
       "  <tbody>\n",
       "    <tr>\n",
       "      <th>0</th>\n",
       "      <td>1</td>\n",
       "      <td>392001</td>\n",
       "      <td>243828</td>\n",
       "      <td>accepted</td>\n",
       "      <td>6.602207</td>\n",
       "      <td>3.270465</td>\n",
       "      <td>392001</td>\n",
       "      <td>6.6010417,3.2766339</td>\n",
       "      <td>6.4501069,3.3916154</td>\n",
       "      <td>2021-07-01 09:30:59</td>\n",
       "      <td>2021-07-01 09:34:36</td>\n",
       "    </tr>\n",
       "    <tr>\n",
       "      <th>1</th>\n",
       "      <td>2</td>\n",
       "      <td>392001</td>\n",
       "      <td>243588</td>\n",
       "      <td>rejected</td>\n",
       "      <td>6.592097</td>\n",
       "      <td>3.287445</td>\n",
       "      <td>392001</td>\n",
       "      <td>6.6010417,3.2766339</td>\n",
       "      <td>6.4501069,3.3916154</td>\n",
       "      <td>2021-07-01 09:30:59</td>\n",
       "      <td>2021-07-01 09:34:36</td>\n",
       "    </tr>\n",
       "    <tr>\n",
       "      <th>2</th>\n",
       "      <td>3</td>\n",
       "      <td>392001</td>\n",
       "      <td>243830</td>\n",
       "      <td>rejected</td>\n",
       "      <td>6.596133</td>\n",
       "      <td>3.281784</td>\n",
       "      <td>392001</td>\n",
       "      <td>6.6010417,3.2766339</td>\n",
       "      <td>6.4501069,3.3916154</td>\n",
       "      <td>2021-07-01 09:30:59</td>\n",
       "      <td>2021-07-01 09:34:36</td>\n",
       "    </tr>\n",
       "    <tr>\n",
       "      <th>3</th>\n",
       "      <td>4</td>\n",
       "      <td>392001</td>\n",
       "      <td>243539</td>\n",
       "      <td>rejected</td>\n",
       "      <td>6.596142</td>\n",
       "      <td>3.280526</td>\n",
       "      <td>392001</td>\n",
       "      <td>6.6010417,3.2766339</td>\n",
       "      <td>6.4501069,3.3916154</td>\n",
       "      <td>2021-07-01 09:30:59</td>\n",
       "      <td>2021-07-01 09:34:36</td>\n",
       "    </tr>\n",
       "    <tr>\n",
       "      <th>4</th>\n",
       "      <td>5</td>\n",
       "      <td>392001</td>\n",
       "      <td>171653</td>\n",
       "      <td>rejected</td>\n",
       "      <td>6.609232</td>\n",
       "      <td>3.288800</td>\n",
       "      <td>392001</td>\n",
       "      <td>6.6010417,3.2766339</td>\n",
       "      <td>6.4501069,3.3916154</td>\n",
       "      <td>2021-07-01 09:30:59</td>\n",
       "      <td>2021-07-01 09:34:36</td>\n",
       "    </tr>\n",
       "  </tbody>\n",
       "</table>\n",
       "</div>"
      ],
      "text/plain": [
       "   id  order_id  driver_id driver_action       lat       lng  Trip ID  \\\n",
       "0   1    392001     243828      accepted  6.602207  3.270465   392001   \n",
       "1   2    392001     243588      rejected  6.592097  3.287445   392001   \n",
       "2   3    392001     243830      rejected  6.596133  3.281784   392001   \n",
       "3   4    392001     243539      rejected  6.596142  3.280526   392001   \n",
       "4   5    392001     171653      rejected  6.609232  3.288800   392001   \n",
       "\n",
       "           Trip Origin     Trip Destination      Trip Start Time  \\\n",
       "0  6.6010417,3.2766339  6.4501069,3.3916154  2021-07-01 09:30:59   \n",
       "1  6.6010417,3.2766339  6.4501069,3.3916154  2021-07-01 09:30:59   \n",
       "2  6.6010417,3.2766339  6.4501069,3.3916154  2021-07-01 09:30:59   \n",
       "3  6.6010417,3.2766339  6.4501069,3.3916154  2021-07-01 09:30:59   \n",
       "4  6.6010417,3.2766339  6.4501069,3.3916154  2021-07-01 09:30:59   \n",
       "\n",
       "         Trip End Time  \n",
       "0  2021-07-01 09:34:36  \n",
       "1  2021-07-01 09:34:36  \n",
       "2  2021-07-01 09:34:36  \n",
       "3  2021-07-01 09:34:36  \n",
       "4  2021-07-01 09:34:36  "
      ]
     },
     "execution_count": 58,
     "metadata": {},
     "output_type": "execute_result"
    }
   ],
   "source": [
    "df1.head()"
   ]
  },
  {
   "cell_type": "code",
   "execution_count": 60,
   "id": "d3535f89",
   "metadata": {},
   "outputs": [],
   "source": [
    "df1.to_csv('../data/merged_data.csv')"
   ]
  },
  {
   "cell_type": "code",
   "execution_count": null,
   "id": "658cf735",
   "metadata": {},
   "outputs": [],
   "source": []
  }
 ],
 "metadata": {
  "kernelspec": {
   "display_name": "Python 3 (ipykernel)",
   "language": "python",
   "name": "python3"
  },
  "language_info": {
   "codemirror_mode": {
    "name": "ipython",
    "version": 3
   },
   "file_extension": ".py",
   "mimetype": "text/x-python",
   "name": "python",
   "nbconvert_exporter": "python",
   "pygments_lexer": "ipython3",
   "version": "3.9.2"
  }
 },
 "nbformat": 4,
 "nbformat_minor": 5
}
